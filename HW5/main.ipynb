{
 "cells": [
  {
   "cell_type": "code",
   "execution_count": 1,
   "id": "bf804076-cfb6-46a7-b7c8-339306e111ae",
   "metadata": {},
   "outputs": [],
   "source": [
    "import numpy as np\n",
    "import pandas as pd\n",
    "import json"
   ]
  },
  {
   "cell_type": "code",
   "execution_count": 2,
   "id": "a89ca412-3384-49e5-be6a-fe3826ba5d0c",
   "metadata": {
    "tags": []
   },
   "outputs": [
    {
     "name": "stderr",
     "output_type": "stream",
     "text": [
      "C:\\Users\\328F~1\\AppData\\Local\\Temp/ipykernel_27352/4179961822.py:6: SettingWithCopyWarning: \n",
      "A value is trying to be set on a copy of a slice from a DataFrame\n",
      "\n",
      "See the caveats in the documentation: https://pandas.pydata.org/pandas-docs/stable/user_guide/indexing.html#returning-a-view-versus-a-copy\n",
      "  pop_grouped['rate'][pop_grouped['year'] != pop.year.max()] = 0\n"
     ]
    }
   ],
   "source": [
    "with open('ukraine.json', 'r') as f:\n",
    "    ukraine = json.load(f)\n",
    "\n",
    "pop = pd.read_csv('population_trends.csv')\n",
    "pop_grouped = pop.copy()\n",
    "pop_grouped['rate'][pop_grouped['year'] != pop.year.max()] = 0"
   ]
  },
  {
   "cell_type": "code",
   "execution_count": 3,
   "id": "56ed50de-11d9-4099-af92-b57bcd86ff4a",
   "metadata": {},
   "outputs": [],
   "source": [
    "for i in ukraine['features']:\n",
    "    i['id'] = i['properties']['NAME_1']"
   ]
  },
  {
   "cell_type": "code",
   "execution_count": 4,
   "id": "da41d6cc-39ee-456b-bc9a-071642597f4d",
   "metadata": {},
   "outputs": [],
   "source": [
    "pop_grouped = pop_grouped.groupby('region').last().reset_index()"
   ]
  },
  {
   "cell_type": "code",
   "execution_count": 5,
   "id": "3ac9fe0f-e948-4bae-9ebe-ae76facfba3b",
   "metadata": {},
   "outputs": [],
   "source": [
    "regions = pop.region.unique()\n",
    "years  = pop.year.unique()"
   ]
  },
  {
   "cell_type": "code",
   "execution_count": 6,
   "id": "dc4fa7f3-99ba-497b-bcab-5317fc0e4601",
   "metadata": {},
   "outputs": [],
   "source": [
    "first = np.array([13,17,144])\n",
    "eight = np.array([240,233,186])\n",
    "last = np.array([193,0,0])"
   ]
  },
  {
   "cell_type": "code",
   "execution_count": 7,
   "id": "edd9bf41-3194-4b6d-8c7f-7734c6210383",
   "metadata": {},
   "outputs": [],
   "source": [
    "step = ((last - eight) / 95 * 1).astype(int)"
   ]
  },
  {
   "cell_type": "code",
   "execution_count": 8,
   "id": "0d61c0eb-c109-4dce-b72a-28c48e47975d",
   "metadata": {},
   "outputs": [],
   "source": [
    "colorscale = [[150,150,150], [0,17,144], [120,120,186], [240,233,186]]\n",
    "for i in range(93):\n",
    "    colorscale.append((eight + (step * (i+1))).tolist())\n",
    "colorscale = [\", \".join([str(j) for j in i]) for i in colorscale]\n",
    "colorscale = [f\"rgb({i})\" for i in colorscale]"
   ]
  },
  {
   "cell_type": "code",
   "execution_count": 9,
   "id": "aff466b9-47c6-4645-b53b-253ed6390691",
   "metadata": {},
   "outputs": [],
   "source": [
    "def update_trace_from_line(trace, points, selector):\n",
    "    if len(points.point_inds) == 0:\n",
    "        return\n",
    "    \n",
    "    for i in range(1, len(fig.data) ):\n",
    "        if fig.data[i].name == trace.name:\n",
    "            fig.data[i].line.width += 1\n",
    "        else:\n",
    "            fig.data[i].line.width = 0.4\n",
    "\n",
    "    ops = [0.6 for i in fig.data[0].locations]\n",
    "    ops[fig.data[0].locations.tolist().index(trace.name)] = 0.99\n",
    "    fig.data[0].marker.opacity = ops"
   ]
  },
  {
   "cell_type": "code",
   "execution_count": 10,
   "id": "a72e5751-324a-4d57-8747-611c52115933",
   "metadata": {},
   "outputs": [],
   "source": [
    "def update_trace_from_map(trace, points, selector):\n",
    "    if len(points.point_inds) == 0:\n",
    "        return\n",
    "    ind = points.point_inds[0]\n",
    "    region = fig.data[0].locations.tolist()[ind]\n",
    "    \n",
    "    for i in range(1, len(fig.data) ):\n",
    "        if fig.data[i].name == region:\n",
    "            fig.data[i].line.width += 1\n",
    "        else:\n",
    "            fig.data[i].line.width = 0.4\n",
    "    \n",
    "    ops = [0.6 for i in fig.data[0].locations]\n",
    "    ops[fig.data[0].locations.tolist().index(region)] = 0.99\n",
    "    fig.data[0].marker.opacity = ops"
   ]
  },
  {
   "cell_type": "code",
   "execution_count": 11,
   "id": "dc34d855-c474-490b-9387-2d0ea6a63a9e",
   "metadata": {
    "tags": []
   },
   "outputs": [
    {
     "data": {
      "application/vnd.jupyter.widget-view+json": {
       "model_id": "6fce1880d3e24584a51e19bc7aa140ea",
       "version_major": 2,
       "version_minor": 0
      },
      "text/plain": [
       "FigureWidget({\n",
       "    'data': [{'colorbar': {'ticks': 'outside', 'title': {'text': 'Rate'}, 'x': 0},\n",
       "            …"
      ]
     },
     "metadata": {},
     "output_type": "display_data"
    }
   ],
   "source": [
    "from plotly.subplots import make_subplots\n",
    "import plotly.graph_objects as go\n",
    "import plotly.express as px\n",
    "\n",
    "fig = go.FigureWidget(make_subplots(\n",
    "    rows=1, cols=2,\n",
    "    column_widths=[0.6, 0.4],\n",
    "    row_heights=[0.4],\n",
    "    specs=[[{\"type\": \"choroplethmapbox\", \"rowspan\": 1}, {\"type\": \"xy\"}]]))\n",
    "\n",
    "fig.add_trace(go.Choroplethmapbox(geojson=ukraine, locations = pop_grouped.region, z=pop_grouped.rate, colorbar_title = \"Rate\",\n",
    "                                    colorscale=colorscale[::-1], zmin=pop_grouped.rate.min(), zmax=0,\n",
    "                                    marker_opacity=0.4, marker_line_width=0, name=\"Map\"),row=1, col=1)\n",
    "fig.update_layout(mapbox_style=\"carto-darkmatter\",\n",
    "                  mapbox_zoom=4, mapbox_center = {\"lat\": 48.3794, \"lon\": 31.1656}, coloraxis_colorbar_x=-2)\n",
    "fig.update_layout(margin={\"r\":0,\"l\":0, \"t\":50 ,\"b\":0})\n",
    "fig.data[0].colorbar.x=0\n",
    "for region in regions:\n",
    "    y = pop[pop['region'] == region]['rate'].to_numpy()\n",
    "    fig.add_trace(go.Scatter(x=years, y=y,\n",
    "                        mode='lines', hovertemplate = \"Rate: %{y}\",\n",
    "                        name=region,line_width=0.4),row=1, col=2)\n",
    "fig.update_layout(height=600, width=1500, title_text=\"Population Change Rate of Ukrainian Regions for 2019\",\n",
    "    yaxis_title=\"Rate\",\n",
    "                  template=\"plotly_dark\", colorscale_diverging=px.colors.qualitative.Light24)\n",
    "\n",
    "for i in range(1, len(fig.data) ):\n",
    "    fig.data[i].on_hover(update_trace_from_line)\n",
    "\n",
    "    \n",
    "fig.data[0].on_hover(update_trace_from_map)\n",
    "fig.data[0].marker.opacity = [0.99 for i in fig.data[0].locations]\n",
    "\n",
    "fig.data[0].colorbar.ticks = \"outside\"\n",
    "fig"
   ]
  },
  {
   "cell_type": "code",
   "execution_count": 13,
   "id": "7f673747-48e9-49b7-adae-8d0def808b97",
   "metadata": {},
   "outputs": [
    {
     "name": "stderr",
     "output_type": "stream",
     "text": [
      "[NbConvertApp] Converting notebook main.ipynb to html\n",
      "[NbConvertApp] Writing 603462 bytes to main.html\n"
     ]
    }
   ],
   "source": [
    "# !jupyter nbconvert --to html main.ipynb"
   ]
  },
  {
   "cell_type": "code",
   "execution_count": null,
   "id": "10884899-a7db-406e-9aa5-7f8ba2574e9e",
   "metadata": {},
   "outputs": [],
   "source": []
  }
 ],
 "metadata": {
  "kernelspec": {
   "display_name": "Python 3 (ipykernel)",
   "language": "python",
   "name": "python3"
  },
  "language_info": {
   "codemirror_mode": {
    "name": "ipython",
    "version": 3
   },
   "file_extension": ".py",
   "mimetype": "text/x-python",
   "name": "python",
   "nbconvert_exporter": "python",
   "pygments_lexer": "ipython3",
   "version": "3.8.9"
  }
 },
 "nbformat": 4,
 "nbformat_minor": 5
}
